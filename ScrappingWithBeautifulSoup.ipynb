{
 "cells": [
  {
   "cell_type": "code",
   "execution_count": null,
   "metadata": {},
   "outputs": [],
   "source": [
    "import numpy as np\n",
    "import pandas as pd\n",
    "import requests\n",
    "from bs4 import BeautifulSoup\n",
    "import re\n",
    "import nltk\n",
    "nltk.download('wordnet')\n",
    "nltk.download('stopwords')\n",
    "import string\n",
    "from nltk.stem import WordNetLemmatizer\n",
    "from nltk.corpus import stopwords\n",
    "\n"
   ]
  },
  {
   "cell_type": "code",
   "execution_count": 76,
   "metadata": {},
   "outputs": [],
   "source": [
    "y = []\n",
    "def url_script(url):\n",
    "    page = requests.get(url).text\n",
    "    soup = BeautifulSoup(page, \"html.parser\")\n",
    "    #text = [p.text for p in soup.find(class_= 'vector-menu-checkbox-expanded')]\n",
    "    text = soup.find_all('p')\n",
    "    #mw-parser-output\n",
    "    return text\n"
   ]
  },
  {
   "cell_type": "code",
   "execution_count": null,
   "metadata": {},
   "outputs": [],
   "source": [
    "links = ['https://en.wikipedia.org/wiki/Telecommunications', 'https://en.wikipedia.org/wiki/Telecommunications_Tower', 'https://en.wikipedia.org/wiki/Telecommunications_equipment', 'https://en.wikipedia.org/wiki/Telecommunications_in_Singapore', 'https://en.wikipedia.org/wiki/Department_of_Telecommunications', 'https://en.wikipedia.org/wiki/Vietnam_Posts_and_Telecommunications_Group', 'https://en.wikipedia.org/wiki/Telecommunications_Act_of_1996', 'https://en.wikipedia.org/wiki/Telecommunications_engineering', 'https://en.wikipedia.org/wiki/Digi_Telecommunications', 'https://en.wikipedia.org/wiki/Telecommunications_in_France', 'https://en.wikipedia.org/wiki/Telecommunications_service', 'https://en.wikipedia.org/wiki/Telecommunications_industry' , 'https://en.wikipedia.org/wiki/Point-to-point_(telecommunications)', 'https://en.wikipedia.org/wiki/Telecommunications_in_Canada', 'https://en.wikipedia.org/wiki/Transmission_(telecommunications)' , 'https://en.wikipedia.org/wiki/Gateway_(telecommunications)', 'https://en.wikipedia.org/wiki/Telecommunications_in_India' , 'https://en.wikipedia.org/wiki/Duplex_(telecommunications)', 'https://en.wikipedia.org/wiki/Telecommunications_industry', 'https://en.wikipedia.org/wiki/Telecommunications_facility', 'https://en.wikipedia.org/wiki/Telecommunications_service', 'https://en.wikipedia.org/wiki/Duplex_(telecommunications)', 'https://en.wikipedia.org/wiki/Telecommunications_billing', 'https://en.wikipedia.org/wiki/Telephone_company', 'https://en.wikipedia.org/wiki/Telecommunications_in_the_Philippines', 'https://en.wikipedia.org/wiki/Eir_(telecommunications)' , 'https://en.wikipedia.org/wiki/Channelization_(telecommunications)', 'https://en.wikipedia.org/wiki/China_Telecommunications_Corporation', 'https://en.wikipedia.org/wiki/3_(telecommunications)', 'https://en.wikipedia.org/wiki/Node_(networking)', 'https://en.wikipedia.org/wiki/Provisioning_(telecommunications)', 'https://en.wikipedia.org/wiki/Telecommunications_in_Ethiopia', 'https://en.wikipedia.org/wiki/Hop_(telecommunications)', 'https://en.wikipedia.org/wiki/Telecommunications_in_Poland', 'https://en.wikipedia.org/wiki/Telecommunications_lease', 'https://en.wikipedia.org/wiki/ADC_Telecommunications', 'https://en.wikipedia.org/wiki/Electronic_engineering', 'https://en.wikipedia.org/wiki/Callback_(telecommunications)', 'https://en.wikipedia.org/wiki/Callback_(telecommunications)', 'https://en.wikipedia.org/wiki/Telecommunications_in_Malaysia', 'https://en.wikipedia.org/wiki/NET_(telecommunications)', 'https://en.wikipedia.org/wiki/Telecommunications_tariff', 'https://en.wikipedia.org/wiki/United_Telecommunications' , 'https://en.wikipedia.org/wiki/Telecommunications_in_Russia' , 'https://en.wikipedia.org/wiki/Transposition_(telecommunications)' , 'https://en.wikipedia.org/wiki/Telecommunications_rating', 'https://en.wikipedia.org/wiki/Telecommunications_Act', 'https://en.wikipedia.org/wiki/Telecommunications_in_Pakistan', 'https://en.wikipedia.org/wiki/Telecommunications_in_Spain', 'https://en.wikipedia.org/wiki/Telecommunications_in_Vietnam', 'https://en.wikipedia.org/wiki/Telecommunications_pedestal', 'https://en.wikipedia.org/wiki/National_Telecommunications_Agency_(Brazil)', 'https://en.wikipedia.org/wiki/Telecommunications_in_Qatar', 'https://en.wikipedia.org/wiki/Vivo_(telecommunications_company)']\n",
    "print('Total websites:'+len(links))\n",
    "for x in links:\n",
    "    vari = url_script(x)\n",
    "    #print(vari)\n",
    "    y.append(vari)\n",
    "    print(\"\\n\\t\\tNEXT LINK\\n\")\n",
    "print(len(y))\n",
    "print('scraping-complete\\nmoving on to next Step')"
   ]
  },
  {
   "cell_type": "code",
   "execution_count": 89,
   "metadata": {},
   "outputs": [],
   "source": [
    "documents=[]\n",
    "document=[]\n",
    "stemmer = WordNetLemmatizer()\n",
    "for sen in range(0, len(y)):\n",
    "\n",
    "    document = re.sub(r'\\W',' ',str(y[sen]))\n",
    "\n",
    "    document = re.sub(re.escape(string.punctuation), '', document)\n",
    "\n",
    "    document = re.sub(r'\\s+[a-zA-Z]\\s+', ' ', document)\n",
    "\n",
    "    document = re.sub(r'\\^[a-zA-Z]\\s+', ' ', document)\n",
    "\n",
    "    document = re.sub(r'\\s',' ',document, flags=re.I)\n",
    "\n",
    "    document = re.sub(r'^b\\s+','', document)\n",
    "\n",
    "    document = document.lower()\n",
    "\n",
    "    document = document.split()\n",
    "    document = [stemmer.lemmatize(word) for word in document]\n",
    "    document = ' '.join(document)\n",
    "    document = [word for word in document.split() if word not in stopwords.words(\"english\")]\n",
    "    document = ' '.join(document)\n",
    "\n",
    "    documents.append(document)\n",
    "\n"
   ]
  },
  {
   "cell_type": "code",
   "execution_count": 91,
   "metadata": {},
   "outputs": [
    {
     "data": {
      "text/html": [
       "<div>\n",
       "<style scoped>\n",
       "    .dataframe tbody tr th:only-of-type {\n",
       "        vertical-align: middle;\n",
       "    }\n",
       "\n",
       "    .dataframe tbody tr th {\n",
       "        vertical-align: top;\n",
       "    }\n",
       "\n",
       "    .dataframe thead th {\n",
       "        text-align: right;\n",
       "    }\n",
       "</style>\n",
       "<table border=\"1\" class=\"dataframe\">\n",
       "  <thead>\n",
       "    <tr style=\"text-align: right;\">\n",
       "      <th></th>\n",
       "      <th>document</th>\n",
       "    </tr>\n",
       "  </thead>\n",
       "  <tbody>\n",
       "    <tr>\n",
       "      <th>0</th>\n",
       "      <td>class mw empty elt p b hello href wiki salutat...</td>\n",
       "    </tr>\n",
       "    <tr>\n",
       "      <th>1</th>\n",
       "      <td>class mw empty elt p b hello href wiki salutat...</td>\n",
       "    </tr>\n",
       "    <tr>\n",
       "      <th>2</th>\n",
       "      <td>class mw empty elt p telecommunication transmi...</td>\n",
       "    </tr>\n",
       "    <tr>\n",
       "      <th>3</th>\n",
       "      <td>b telecommunication tower may refer</td>\n",
       "    </tr>\n",
       "    <tr>\n",
       "      <th>4</th>\n",
       "      <td>b telecommunication equipment also telecom equ...</td>\n",
       "    </tr>\n",
       "  </tbody>\n",
       "</table>\n",
       "</div>"
      ],
      "text/plain": [
       "                                            document\n",
       "0  class mw empty elt p b hello href wiki salutat...\n",
       "1  class mw empty elt p b hello href wiki salutat...\n",
       "2  class mw empty elt p telecommunication transmi...\n",
       "3                b telecommunication tower may refer\n",
       "4  b telecommunication equipment also telecom equ..."
      ]
     },
     "execution_count": 91,
     "metadata": {},
     "output_type": "execute_result"
    }
   ],
   "source": [
    "df = pd.DataFrame()\n",
    "df['document']= documents\n",
    "\n",
    "df.to_csv(\"clean_data.csv\", index=False)\n",
    "df = pd.read_csv('clean_data.csv')\n",
    "df.head()"
   ]
  }
 ],
 "metadata": {
  "kernelspec": {
   "display_name": "Python 3",
   "language": "python",
   "name": "python3"
  },
  "language_info": {
   "codemirror_mode": {
    "name": "ipython",
    "version": 3
   },
   "file_extension": ".py",
   "mimetype": "text/x-python",
   "name": "python",
   "nbconvert_exporter": "python",
   "pygments_lexer": "ipython3",
   "version": "3.9.0"
  }
 },
 "nbformat": 4,
 "nbformat_minor": 4
}
